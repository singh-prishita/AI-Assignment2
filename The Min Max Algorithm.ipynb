{
 "cells": [
  {
   "cell_type": "code",
   "execution_count": 26,
   "metadata": {},
   "outputs": [
    {
     "data": {
      "text/html": [
       "\n",
       "    <style>\n",
       "    .rendered_html table, .rendered_html th, .rendered_html tr, .rendered_html td {\n",
       "      border: 1px  black solid !important;\n",
       "      color: black !important;\n",
       "    }\n",
       "    </style>\n",
       "    <table border=\"1\"><tr><td>x</td><td>x</td><td>o</td></tr><tr><td>o</td><td>o</td><td>x</td></tr><tr><td>o</td><td>&ensp;</td><td>x</td></tr></table>"
      ],
      "text/plain": [
       "<IPython.core.display.HTML object>"
      ]
     },
     "metadata": {},
     "output_type": "display_data"
    },
    {
     "name": "stdout",
     "output_type": "stream",
     "text": [
      "Naught won\n"
     ]
    }
   ],
   "source": [
    "from IPython.display import HTML, display\n",
    "from tic_tac_toe.Board import Board, GameResult, CROSS, NAUGHT, EMPTY\n",
    "from util import print_board, play_game\n",
    "from tic_tac_toe.RandomPlayer import RandomPlayer as defaultPlayer\n",
    "\n",
    "board = Board()\n",
    "player1 = defaultPlayer()\n",
    "player2 = defaultPlayer()\n",
    "\n",
    "result = play_game(board, player1, player2)\n",
    "print_board(board)\n",
    "\n",
    "if result == GameResult.CROSS_WIN:\n",
    "    print(\"Cross won\")\n",
    "elif result == GameResult.NAUGHT_WIN:\n",
    "    print(\"Naught won\")\n",
    "else:\n",
    "    print(\"Draw\")"
   ]
  },
  {
   "cell_type": "code",
   "execution_count": 25,
   "metadata": {},
   "outputs": [
    {
     "data": {
      "text/html": [
       "\n",
       "    <style>\n",
       "    .rendered_html table, .rendered_html th, .rendered_html tr, .rendered_html td {\n",
       "      border: 1px  black solid !important;\n",
       "      color: black !important;\n",
       "    }\n",
       "    </style>\n",
       "    <table border=\"1\"><tr><td>x</td><td>&ensp;</td><td>x</td></tr><tr><td>o</td><td>o</td><td>x</td></tr><tr><td>&ensp;</td><td>&ensp;</td><td>o</td></tr></table>"
      ],
      "text/plain": [
       "<IPython.core.display.HTML object>"
      ]
     },
     "metadata": {},
     "output_type": "display_data"
    }
   ],
   "source": [
    "example = Board([CROSS  , EMPTY  , CROSS,\n",
    "                 NAUGHT , NAUGHT , CROSS,\n",
    "                 EMPTY  , EMPTY  , NAUGHT])\n",
    "print_board(example)"
   ]
  },
  {
   "cell_type": "code",
   "execution_count": 27,
   "metadata": {},
   "outputs": [],
   "source": [
    "from tic_tac_toe.Player import Player\n",
    "\n",
    "def battle(player1: Player, player2: Player, num_games: int = 100000):\n",
    "    board = Board()\n",
    "    draw_count = 0\n",
    "    cross_count = 0\n",
    "    naught_count = 0\n",
    "    for _ in range(num_games):\n",
    "        result = play_game(board, player1, player2)\n",
    "        if result == GameResult.CROSS_WIN:\n",
    "            cross_count += 1\n",
    "        elif result == GameResult.NAUGHT_WIN:\n",
    "            naught_count += 1\n",
    "        else:\n",
    "            draw_count += 1\n",
    "\n",
    "    print(\"After {} game we have draws: {}, Player 1 wins: {}, and Player 2 wins: {}.\".format(num_games, draw_count,\n",
    "                                                                                         cross_count, naught_count))\n",
    "\n",
    "    print(\"Which gives percentages of draws: {:.2%}, Player 1 wins: {:.2%}, and Player 2 wins:  {:.2%}\".format(\n",
    "        draw_count / num_games, cross_count / num_games, naught_count / num_games))"
   ]
  },
  {
   "cell_type": "code",
   "execution_count": 5,
   "metadata": {},
   "outputs": [
    {
     "name": "stdout",
     "output_type": "stream",
     "text": [
      "After 100000 game we have draws: 526, Player 1 wins: 99474, and Player 2 wins: 0.\n",
      "Which gives percentages of draws: 0.53%, Player 1 wins: 99.47%, and Player 2 wins:  0.00%\n"
     ]
    }
   ],
   "source": [
    "from tic_tac_toe.MinMaxAgent import MinMaxAgent\n",
    "\n",
    "battle(MinMaxAgent(), defaultPlayer())"
   ]
  },
  {
   "cell_type": "code",
   "execution_count": 5,
   "metadata": {},
   "outputs": [
    {
     "name": "stdout",
     "output_type": "stream",
     "text": [
      "After 100000 game we have draws: 19325, Player 1 wins: 0, and Player 2 wins: 80675.\n",
      "Which gives percentages of draws: 19.32%, Player 1 wins: 0.00%, and Player 2 wins:  80.67%\n"
     ]
    }
   ],
   "source": [
    "battle(defaultPlayer(), MinMaxAgent())"
   ]
  },
  {
   "cell_type": "markdown",
   "metadata": {},
   "source": []
  },
  {
   "cell_type": "code",
   "execution_count": 6,
   "metadata": {},
   "outputs": [
    {
     "name": "stdout",
     "output_type": "stream",
     "text": [
      "After 100000 game we have draws: 100000, Player 1 wins: 0, and Player 2 wins: 0.\n",
      "Which gives percentages of draws: 100.00%, Player 1 wins: 0.00%, and Player 2 wins:  0.00%\n"
     ]
    }
   ],
   "source": [
    "from tic_tac_toe.RndMinMaxAgent import RndMinMaxAgent\n",
    "\n",
    "battle(MinMaxAgent(), RndMinMaxAgent())"
   ]
  },
  {
   "cell_type": "code",
   "execution_count": 29,
   "metadata": {},
   "outputs": [],
   "source": [
    "from tic_tac_toe.AlphaBeta import AlphaBetaAgent"
   ]
  },
  {
   "cell_type": "code",
   "execution_count": 8,
   "metadata": {},
   "outputs": [
    {
     "name": "stdout",
     "output_type": "stream",
     "text": [
      "After 100000 game we have draws: 100000, Player 1 wins: 0, and Player 2 wins: 0.\n",
      "Which gives percentages of draws: 100.00%, Player 1 wins: 0.00%, and Player 2 wins:  0.00%\n"
     ]
    }
   ],
   "source": [
    "battle(AlphaBetaAgent(), RndMinMaxAgent())"
   ]
  },
  {
   "cell_type": "code",
   "execution_count": 9,
   "metadata": {},
   "outputs": [
    {
     "name": "stdout",
     "output_type": "stream",
     "text": [
      "After 100000 game we have draws: 100000, Player 1 wins: 0, and Player 2 wins: 0.\n",
      "Which gives percentages of draws: 100.00%, Player 1 wins: 0.00%, and Player 2 wins:  0.00%\n"
     ]
    }
   ],
   "source": [
    "battle(AlphaBetaAgent(), MinMaxAgent())"
   ]
  },
  {
   "cell_type": "code",
   "execution_count": 28,
   "metadata": {},
   "outputs": [],
   "source": [
    "%matplotlib inline\n",
    "\n",
    "import matplotlib\n",
    "import numpy as np\n",
    "import matplotlib.pyplot as plt\n",
    "\n",
    "from tic_tac_toe.Board import Board, GameResult, CROSS, NAUGHT, EMPTY\n",
    "from tic_tac_toe.Player import Player\n",
    "from tic_tac_toe.RandomPlayer import RandomPlayer\n",
    "from tic_tac_toe.MinMaxAgent import MinMaxAgent\n",
    "from tic_tac_toe.RndMinMaxAgent import RndMinMaxAgent\n",
    "from tic_tac_toe.TabularQPlayer import TQPlayer\n",
    "\n",
    "from tic_tac_toe.Board import Board, GameResult, CROSS, NAUGHT, EMPTY\n",
    "from util import battle\n",
    "\n",
    "def eval_players(p1 : Player, p2 : Player, num_battles : int, games_per_battle = 100000, loc='best'):\n",
    "    p1_wins = []\n",
    "    p2_wins = []\n",
    "    draws = []\n",
    "    count = []    \n",
    "\n",
    "    for i in range(num_battles):\n",
    "        p1win, p2win, draw = battle(p1, p2, games_per_battle)\n",
    "        p1_wins.append(p1win*100.0/games_per_battle)\n",
    "        p2_wins.append(p2win*100.0/games_per_battle)\n",
    "        draws.append(draw*100.0/games_per_battle)\n",
    "        count.append(i*games_per_battle)\n",
    "        p1_wins.append(p1win*100.0/games_per_battle)\n",
    "        p2_wins.append(p2win*100.0/games_per_battle)\n",
    "        draws.append(draw*100.0/games_per_battle)\n",
    "        count.append((i+1)*games_per_battle)\n",
    "\n",
    "    plt.ylabel('Game outcomes in %')\n",
    "    plt.xlabel('Game number')\n",
    "\n",
    "    plt.plot(count, draws, 'o-', label='Draw')\n",
    "    plt.plot(count, p1_wins, 'p-', label='Player 1 wins')\n",
    "    plt.plot(count, p2_wins, 'v-', label='Player 2 wins')\n",
    "    plt.legend(loc=loc, shadow=True, fancybox=True, framealpha =0.7)"
   ]
  },
  {
   "cell_type": "code",
   "execution_count": 30,
   "metadata": {},
   "outputs": [
    {
     "name": "stdout",
     "output_type": "stream",
     "text": [
      "After 100000 game we have draws: 1331, Player 1 wins: 98669, and Player 2 wins: 0.\n",
      "Which gives percentages of draws: 1.33%, Player 1 wins: 98.67%, and Player 2 wins:  0.00%\n"
     ]
    },
    {
     "data": {
      "image/png": "[encoded data removed]",
      "text/plain": [
       "<Figure size 432x288 with 1 Axes>"
      ]
     },
     "metadata": {
      "needs_background": "light"
     },
     "output_type": "display_data"
    }
   ],
   "source": [
    "\n",
    "eval_players(AlphaBetaAgent(), defaultPlayer(),1)"
   ]
  },
  {
   "cell_type": "code",
   "execution_count": 23,
   "metadata": {},
   "outputs": [
    {
     "name": "stdout",
     "output_type": "stream",
     "text": [
      "After 100000 game we have draws: 18766, Player 1 wins: 0, and Player 2 wins: 81234.\n",
      "Which gives percentages of draws: 18.77%, Player 1 wins: 0.00%, and Player 2 wins:  81.23%\n"
     ]
    },
    {
     "data": {
      "image/png": "[encoded data removed]",
      "text/plain": [
       "<Figure size 432x288 with 1 Axes>"
      ]
     },
     "metadata": {
      "needs_background": "light"
     },
     "output_type": "display_data"
    }
   ],
   "source": [
    "eval_players(defaultPlayer(),AlphaBetaAgent(),1)"
   ]
  },
  {
   "cell_type": "code",
   "execution_count": null,
   "metadata": {},
   "outputs": [],
   "source": []
  }
 ],
 "metadata": {
  "kernelspec": {
   "display_name": "Python 3 (ipykernel)",
   "language": "python",
   "name": "python3"
  },
  "language_info": {
   "codemirror_mode": {
    "name": "ipython",
    "version": 3
   },
   "file_extension": ".py",
   "mimetype": "text/x-python",
   "name": "python",
   "nbconvert_exporter": "python",
   "pygments_lexer": "ipython3",
   "version": "3.9.12"
  }
 },
 "nbformat": 4,
 "nbformat_minor": 2
}
